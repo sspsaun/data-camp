{
  "nbformat": 4,
  "nbformat_minor": 0,
  "metadata": {
    "colab": {
      "provenance": [],
      "collapsed_sections": [
        "0z9hfeB7zZTq",
        "MuCOnjJ50d-n",
        "IrKsD_md2s3s",
        "PH6PQPUWCjmm",
        "ApHC1eDaq4_W",
        "DEQQ5W_EVGgc",
        "EIAhB5iQBxOn",
        "7MNltBApUTAf"
      ],
      "authorship_tag": "ABX9TyNIpeqnKo747s8uHDsp4+ZH",
      "include_colab_link": true
    },
    "kernelspec": {
      "name": "python3",
      "display_name": "Python 3"
    },
    "language_info": {
      "name": "python"
    }
  },
  "cells": [
    {
      "cell_type": "markdown",
      "metadata": {
        "id": "view-in-github",
        "colab_type": "text"
      },
      "source": [
        "<a href=\"https://colab.research.google.com/github/sspsaun/data-camp/blob/main/foundation_datatype.ipynb\" target=\"_parent\"><img src=\"https://colab.research.google.com/assets/colab-badge.svg\" alt=\"Open In Colab\"/></a>"
      ]
    },
    {
      "cell_type": "markdown",
      "source": [
        "# Data type\n",
        "ชนิดของข้อมูลที่นำมาใช้มีอยู่ 4 ประเภทหลัก ๆ "
      ],
      "metadata": {
        "id": "aVtOsedUYNZp"
      }
    },
    {
      "cell_type": "markdown",
      "source": [
        "## 1.String (str)\n",
        "เก็บข้อมูลประเภทข้อความ หรือ ประโยค  \n",
        "โดยจะถูกครอบด้วยเครื่องหมาย ' ' (single quote) หรือ \" \" (double quote)"
      ],
      "metadata": {
        "id": "IjxLSyDLu4Rq"
      }
    },
    {
      "cell_type": "code",
      "source": [
        "'Hello World' #str\n",
        "\n",
        "\"Hello World\" #str\n",
        "\n",
        "'Hello World\""
      ],
      "metadata": {
        "id": "W1ceeoXb49M-"
      },
      "execution_count": null,
      "outputs": []
    },
    {
      "cell_type": "markdown",
      "source": [
        "## 2.Integer (int)\n",
        "เก็บข้อมูลเลขจำนวนเต็ม ทั้งจำนวนเต็มบวก จำนวนเต็มลบ หรือจำนวนเต็มศูนย์"
      ],
      "metadata": {
        "id": "71Z0YwWdwKqK"
      }
    },
    {
      "cell_type": "code",
      "source": [
        "123 #int\n",
        "\n",
        "\"123\" #str\n",
        "\n",
        "123 ≠ \"123\""
      ],
      "metadata": {
        "id": "7FjCCmETmN8y"
      },
      "execution_count": null,
      "outputs": []
    },
    {
      "cell_type": "markdown",
      "source": [
        "## 3.Float\n",
        "เก็บข้อมูลที่เป็นเลขทศนิยม"
      ],
      "metadata": {
        "id": "0z9hfeB7zZTq"
      }
    },
    {
      "cell_type": "code",
      "source": [
        "123.00 #float\n",
        "\n",
        "123 #int\n",
        "\n",
        "123.00 ≠ 123"
      ],
      "metadata": {
        "id": "FC0Veqn4z5cD"
      },
      "execution_count": null,
      "outputs": []
    },
    {
      "cell_type": "markdown",
      "source": [
        "## 4.Boolean (bool)\n",
        "เก็บข้อมูลประเภทค่าความจริง  \n",
        "โดยมีเพียง 2 ค่า คือ True (จริง) และ False (ไม่จริง)"
      ],
      "metadata": {
        "id": "MuCOnjJ50d-n"
      }
    },
    {
      "cell_type": "code",
      "source": [
        "True #bool\n",
        "\n",
        "False #bool\n",
        "\n",
        "\"True\" #str\n",
        "\n",
        "True ≠ \"True\""
      ],
      "metadata": {
        "id": "hFhjxm410vgf"
      },
      "execution_count": null,
      "outputs": []
    },
    {
      "cell_type": "markdown",
      "source": [
        "สามารถใช้ฟังก์ชัน bool() เพื่อตรวจสอบตัวแปรหรือค่าต่าง ๆ  \n",
        "โดยข้อมูลเกือบทั้งหมดจะมีค่าเป็น True\n",
        "\n",
        "\n"
      ],
      "metadata": {
        "id": "y7HceZu3p4EO"
      }
    },
    {
      "cell_type": "code",
      "source": [
        "\"\"\"ข้อมูลที่มีค่าเป็น False มีดังนี้\"\"\"\n",
        "\n",
        "bool(\"\") #string ว่าง\n",
        "\n",
        "bool(0) #เลข 0\n",
        "\n",
        "bool(()) #tuple ว่าง\n",
        "\n",
        "bool([]) #list ว่าง\n",
        "\n",
        "bool({}) #dict หรือ set ว่าง\n",
        "\n",
        "bool(False)\n",
        "\n",
        "ิbool(None)"
      ],
      "metadata": {
        "id": "WPAfrH-SraNK"
      },
      "execution_count": null,
      "outputs": []
    },
    {
      "cell_type": "markdown",
      "source": [
        "# Variable\n",
        "ตัวแปรที่ใช้สำหรับเก็บค่าของข้อมูลเพื่อนำไปใช้งานในส่วนต่าง ๆ ของโปรแกรม  \n",
        "โดยหลักการในการตั้งชื่อตัวแปรมีดังนี้  \n",
        "1. ควรตั้งชื่อให้มีความหมาย\n",
        "2. อักษรพิมพ์ใหญ่-พิมพ์เล็กจะมีความหมายไม่เหมือนกัน (case-sensitive)\n",
        "3. ห้ามเว้นช่องว่าง (ให้ใช้ Underscore ( _ ) ในการเว้นช่องว่างแทน)\n",
        "4. ไม่มีอักขระพิเศษ ยกเว้น Underscore ( _ )\n",
        "5. ไม่ขึ้นต้นด้วยตัวเลข\n",
        "6. ห้ามซ้ำกับคำสงวน\n"
      ],
      "metadata": {
        "id": "IrKsD_md2s3s"
      }
    },
    {
      "cell_type": "code",
      "source": [
        "\"\"\"ตัวอย่างการเก็บข้อมูลประเภทต่าง ๆ ไว้ในตัวแปร\"\"\"\n",
        "\n",
        "name = \"Thor Odinson\" #str\n",
        "\n",
        "age = 1500 #int\n",
        "\n",
        "account_balance = 1107.45 #float\n",
        "\n",
        "handsome = True #bool"
      ],
      "metadata": {
        "id": "TAiDvced_C_6"
      },
      "execution_count": null,
      "outputs": []
    },
    {
      "cell_type": "code",
      "source": [
        "#case-sensitive\n",
        "\n",
        "name = \"Thor\"\n",
        "\n",
        "nAmE = \"Odinson\"\n",
        "\n",
        "print(\"name :\", name)\n",
        "\n",
        "print(\"nAmE :\", nAmE)"
      ],
      "metadata": {
        "id": "E82MUn7aECwv",
        "colab": {
          "base_uri": "https://localhost:8080/"
        },
        "outputId": "b31524a0-70c2-436a-b6d8-d76afae4bd44"
      },
      "execution_count": null,
      "outputs": [
        {
          "output_type": "stream",
          "name": "stdout",
          "text": [
            "name : Thor\n",
            "nAmE : Odinson\n"
          ]
        }
      ]
    },
    {
      "cell_type": "code",
      "source": [
        "#ห้ามเว้นช่องว่าง\n",
        "\n",
        "my name = \"Thor Odinson\" #SyntaxError\n",
        "\n",
        "my_name = \"Thor Odinson\"\n"
      ],
      "metadata": {
        "id": "Ze2FC87oEr_C"
      },
      "execution_count": null,
      "outputs": []
    },
    {
      "cell_type": "code",
      "source": [
        "#ไม่มีอักขระพิเศษ\n",
        "\n",
        "my-name = \"Thor Odinson\" #SyntaxError\n",
        "\n",
        "my&name = \"Thor Odinson\" #SyntaxError\n",
        "\n",
        "my*name = \"Thor Odinson\" #SyntaxError"
      ],
      "metadata": {
        "id": "VcTbBcTCFlkN"
      },
      "execution_count": null,
      "outputs": []
    },
    {
      "cell_type": "code",
      "source": [
        "#ไม่ขึ้นต้นด้วยตัวเลข\n",
        "\n",
        "1234 = \"Thor Odinson\" #SyntaxError\n",
        "\n",
        "2name = \"Thor Odinson\" #SyntaxError"
      ],
      "metadata": {
        "id": "27KE9ubNGQot"
      },
      "execution_count": null,
      "outputs": []
    },
    {
      "cell_type": "code",
      "source": [
        "#ห้ามซ้ำกับคำสงวน\n",
        "\n",
        "for = \"Thor Odinson\" #SyntaxError\n",
        "\n",
        "def = \"Thor Odinson\" #SyntaxError"
      ],
      "metadata": {
        "id": "aH9LIiRcLMO8"
      },
      "execution_count": null,
      "outputs": []
    },
    {
      "cell_type": "markdown",
      "source": [
        "## link คำสงวน\n",
        "[https://www.programiz.com/python-programming/keyword-list](https://www.programiz.com/python-programming/keyword-list)\n"
      ],
      "metadata": {
        "id": "suE4J6_g8lw-"
      }
    },
    {
      "cell_type": "markdown",
      "source": [
        "# Input\n",
        "การรับค่าจาก User โดยตามปกติแล้วค่าที่รับเข้ามาในฟังก์ชัน input() จะมีค่าของข้อมูลเป็น string"
      ],
      "metadata": {
        "id": "PH6PQPUWCjmm"
      }
    },
    {
      "cell_type": "code",
      "source": [
        "eg_str = input() #รับค่าเป็น string"
      ],
      "metadata": {
        "id": "Ez8U5VMEH_1x",
        "colab": {
          "base_uri": "https://localhost:8080/"
        },
        "outputId": "8469ff01-3390-4a6e-9b7f-b44e94399571"
      },
      "execution_count": null,
      "outputs": [
        {
          "name": "stdout",
          "output_type": "stream",
          "text": [
            "1234\n"
          ]
        }
      ]
    },
    {
      "cell_type": "markdown",
      "source": [
        "สามารถใช้ฟังก์ชัน type() เพื่อตรวจสอบประเภทของข้อมูลได้"
      ],
      "metadata": {
        "id": "6uRU1J991Gfr"
      }
    },
    {
      "cell_type": "code",
      "source": [
        "print(type(eg_str))"
      ],
      "metadata": {
        "id": "tmEDJZGp1M4g",
        "colab": {
          "base_uri": "https://localhost:8080/"
        },
        "outputId": "501f49a6-caa6-4494-fa4c-ad261f656b73"
      },
      "execution_count": null,
      "outputs": [
        {
          "output_type": "stream",
          "name": "stdout",
          "text": [
            "<class 'str'>\n"
          ]
        }
      ]
    },
    {
      "cell_type": "markdown",
      "source": [
        "หากต้องการรับค่า int หรือ float ให้ใส่คำสั่งนั้นครอบฟังก์ชัน input() ได้เลย\n"
      ],
      "metadata": {
        "id": "XHzSQI7PIGww"
      }
    },
    {
      "cell_type": "code",
      "source": [
        "eg_int = int(input()) #รับค่าเป็น integer\n",
        "\n",
        "print(type(eg_int))"
      ],
      "metadata": {
        "id": "06cbjOZtEvjU",
        "colab": {
          "base_uri": "https://localhost:8080/"
        },
        "outputId": "e45fa221-90f1-4596-8d1b-f2ff0b3d9bbb"
      },
      "execution_count": null,
      "outputs": [
        {
          "output_type": "stream",
          "name": "stdout",
          "text": [
            "1234\n",
            "<class 'int'>\n"
          ]
        }
      ]
    },
    {
      "cell_type": "code",
      "source": [
        "eg_float = float(input()) #รับค่าเป็น float\n",
        "\n",
        "print(eg_float)\n",
        "\n",
        "print(type(eg_float))"
      ],
      "metadata": {
        "colab": {
          "base_uri": "https://localhost:8080/"
        },
        "id": "feulE5o3CAH2",
        "outputId": "312e9139-d71d-4b93-8dd1-dbe0ca7a94ab"
      },
      "execution_count": null,
      "outputs": [
        {
          "output_type": "stream",
          "name": "stdout",
          "text": [
            "3\n",
            "3.0\n",
            "<class 'float'>\n"
          ]
        }
      ]
    },
    {
      "cell_type": "markdown",
      "source": [
        "# Output\n",
        "การแสดงผลข้อความ ตัวเลข หรือตัวแปรต่าง ๆ โดยใช้ฟังก์ชัน print()"
      ],
      "metadata": {
        "id": "ApHC1eDaq4_W"
      }
    },
    {
      "cell_type": "code",
      "source": [
        "print(\"Hello World\") #แสดงข้อความ"
      ],
      "metadata": {
        "id": "AKBR04Uzq7n0",
        "colab": {
          "base_uri": "https://localhost:8080/"
        },
        "outputId": "805fa7d1-8719-4406-a230-e4f2172ae0bf"
      },
      "execution_count": null,
      "outputs": [
        {
          "output_type": "stream",
          "name": "stdout",
          "text": [
            "Hello World\n"
          ]
        }
      ]
    },
    {
      "cell_type": "code",
      "source": [
        "fname = \"Thor\"\n",
        "lname = \"Odinson\"\n",
        "age = 1500"
      ],
      "metadata": {
        "id": "12_DtG0Ox7ml"
      },
      "execution_count": null,
      "outputs": []
    },
    {
      "cell_type": "code",
      "source": [
        "print(fname) #แสดงค่าของตัวแปร"
      ],
      "metadata": {
        "id": "jtZ1Oa2dsBpm",
        "colab": {
          "base_uri": "https://localhost:8080/"
        },
        "outputId": "44ee9f0e-ebed-4005-f2dc-1a3e6911a68c"
      },
      "execution_count": null,
      "outputs": [
        {
          "output_type": "stream",
          "name": "stdout",
          "text": [
            "Thor\n"
          ]
        }
      ]
    },
    {
      "cell_type": "code",
      "source": [
        "print(fname, lname, age) #แสดงค่าของตัวแปรที่มากกว่า 1 ค่า"
      ],
      "metadata": {
        "id": "cLxAxaEJx2rB",
        "colab": {
          "base_uri": "https://localhost:8080/"
        },
        "outputId": "fdafbe2c-c4cc-45e0-d7d2-a87a8ec25d61"
      },
      "execution_count": null,
      "outputs": [
        {
          "output_type": "stream",
          "name": "stdout",
          "text": [
            "Thor Odinson 1500\n"
          ]
        }
      ]
    },
    {
      "cell_type": "code",
      "source": [
        "print(fname, lname, age, sep=\"-\") #ใส่พารามิเตอร์ sep=\"\" เพื่อกำหนดค่าระหว่างช่องว่าง"
      ],
      "metadata": {
        "id": "_HetF7qHwhIT",
        "colab": {
          "base_uri": "https://localhost:8080/"
        },
        "outputId": "87946499-e7f7-4d73-c3fc-f27c1d1d13b0"
      },
      "execution_count": null,
      "outputs": [
        {
          "output_type": "stream",
          "name": "stdout",
          "text": [
            "Thor-Odinson-1500\n"
          ]
        }
      ]
    },
    {
      "cell_type": "code",
      "source": [
        "print(fname, end=\"\") #ใส่พารามิเตอร์ end=\"\" เพื่อกำหนดค่าตัวสุดท้าย\n",
        "print(lname)"
      ],
      "metadata": {
        "colab": {
          "base_uri": "https://localhost:8080/"
        },
        "id": "H70gXvX8ZMLK",
        "outputId": "373b3178-9259-4f26-fb48-05919e0f34f4"
      },
      "execution_count": null,
      "outputs": [
        {
          "output_type": "stream",
          "name": "stdout",
          "text": [
            "ThorOdinson\n"
          ]
        }
      ]
    },
    {
      "cell_type": "code",
      "source": [
        "print(fname + lname) #นำ string มาต่อกันโดยใช้เครื่องหมาย +"
      ],
      "metadata": {
        "id": "JI_68lyaBSXB",
        "colab": {
          "base_uri": "https://localhost:8080/"
        },
        "outputId": "e1baa95f-4ef4-416a-bc92-195b02c9dfc3"
      },
      "execution_count": null,
      "outputs": [
        {
          "output_type": "stream",
          "name": "stdout",
          "text": [
            "ThorOdinson\n"
          ]
        }
      ]
    },
    {
      "cell_type": "code",
      "source": [
        "print(\"Hello\"+\"World\")"
      ],
      "metadata": {
        "colab": {
          "base_uri": "https://localhost:8080/"
        },
        "id": "oULomzDFExdm",
        "outputId": "fbe60805-c372-4d99-a860-4e0ea82f0fe9"
      },
      "execution_count": null,
      "outputs": [
        {
          "output_type": "stream",
          "name": "stdout",
          "text": [
            "HelloWorld\n"
          ]
        }
      ]
    },
    {
      "cell_type": "code",
      "source": [
        "print(fname + age) #TypeError"
      ],
      "metadata": {
        "id": "vzinOSJm0Srw",
        "colab": {
          "base_uri": "https://localhost:8080/",
          "height": 169
        },
        "outputId": "fe3b36ee-d646-44e0-b4e7-d84014a00653"
      },
      "execution_count": null,
      "outputs": [
        {
          "output_type": "error",
          "ename": "TypeError",
          "evalue": "ignored",
          "traceback": [
            "\u001b[0;31m---------------------------------------------------------------------------\u001b[0m",
            "\u001b[0;31mTypeError\u001b[0m                                 Traceback (most recent call last)",
            "\u001b[0;32m<ipython-input-21-4b9d830a7e2b>\u001b[0m in \u001b[0;36m<module>\u001b[0;34m()\u001b[0m\n\u001b[0;32m----> 1\u001b[0;31m \u001b[0mprint\u001b[0m\u001b[0;34m(\u001b[0m\u001b[0mfname\u001b[0m \u001b[0;34m+\u001b[0m \u001b[0mage\u001b[0m\u001b[0;34m)\u001b[0m \u001b[0;31m#TypeError\u001b[0m\u001b[0;34m\u001b[0m\u001b[0;34m\u001b[0m\u001b[0m\n\u001b[0m",
            "\u001b[0;31mTypeError\u001b[0m: can only concatenate str (not \"int\") to str"
          ]
        }
      ]
    },
    {
      "cell_type": "code",
      "source": [
        "print(fname + str(age))"
      ],
      "metadata": {
        "id": "2zB-CgRR0rRs",
        "colab": {
          "base_uri": "https://localhost:8080/"
        },
        "outputId": "fcb9c1e4-0516-457e-d28e-e968a3b8ccfb"
      },
      "execution_count": null,
      "outputs": [
        {
          "output_type": "stream",
          "name": "stdout",
          "text": [
            "Thor1500\n"
          ]
        }
      ]
    },
    {
      "cell_type": "markdown",
      "source": [
        "# String Slicing\n",
        "การเข้าถึงข้อมูลใน string โดยการระบุตำแหน่ง (index) ซึ่งจะเริ่มที่ตำแหน่ง 0  \n",
        "โดยสามารถใส่ argument ได้ดังนี้ value[start:stop:step]  \n",
        "* start คือ เริ่มที่ตำแหน่งไหน (ค่า default คือ 0)  \n",
        "* stop คือ ตำแหน่งที่จะหยุด (ค่า default คือ None) \n",
        "* step คือ การระบุว่าจะให้ตำแหน่งเพิ่มขึ้นเท่าใด (ค่า default คือ 1)  "
      ],
      "metadata": {
        "id": "DEQQ5W_EVGgc"
      }
    },
    {
      "cell_type": "code",
      "source": [
        "x = \"Datavergent\""
      ],
      "metadata": {
        "id": "GVaSgd2LCChS"
      },
      "execution_count": null,
      "outputs": []
    },
    {
      "cell_type": "code",
      "source": [
        "print(x[0])"
      ],
      "metadata": {
        "colab": {
          "base_uri": "https://localhost:8080/"
        },
        "id": "IJN5reF0AEb0",
        "outputId": "a3fedbd4-3ce9-42ac-b074-ce4cc3d01d8b"
      },
      "execution_count": null,
      "outputs": [
        {
          "output_type": "stream",
          "name": "stdout",
          "text": [
            "D\n"
          ]
        }
      ]
    },
    {
      "cell_type": "code",
      "source": [
        "print(x[0:5]) #เอาตำแหน่งที่ 0, 1, 2, 3, 4 (ตำแหน่งที่ 5 เป็นตัวหยุดจึงไม่เอา)"
      ],
      "metadata": {
        "colab": {
          "base_uri": "https://localhost:8080/"
        },
        "id": "gXFPN8JsD693",
        "outputId": "3390088d-ada7-4ae9-d2e8-e9837e582e5a"
      },
      "execution_count": null,
      "outputs": [
        {
          "output_type": "stream",
          "name": "stdout",
          "text": [
            "Datav\n"
          ]
        }
      ]
    },
    {
      "cell_type": "code",
      "source": [
        "print(x[0::2]) #เอาตำแหน่งที่ 0, 2, 4, 6, 8, 10"
      ],
      "metadata": {
        "colab": {
          "base_uri": "https://localhost:8080/"
        },
        "id": "BLtNEF-4G5gy",
        "outputId": "e0dd10bb-3841-4ae4-8f32-9cf43c69e112"
      },
      "execution_count": null,
      "outputs": [
        {
          "output_type": "stream",
          "name": "stdout",
          "text": [
            "Dtvret\n"
          ]
        }
      ]
    },
    {
      "cell_type": "code",
      "source": [
        "print(x[::-1]) #เอาตำแหน่งจากหลังสุดมาหน้าสุด"
      ],
      "metadata": {
        "colab": {
          "base_uri": "https://localhost:8080/"
        },
        "id": "aBkQXSWZE7iU",
        "outputId": "81a046fb-b4ca-427f-95f8-97d89fc01b53"
      },
      "execution_count": null,
      "outputs": [
        {
          "output_type": "stream",
          "name": "stdout",
          "text": [
            "tnegrevataD\n"
          ]
        }
      ]
    },
    {
      "cell_type": "markdown",
      "source": [
        "# List\n",
        "ชนิดของข้อมูลที่ใช้ในการเก็บข้อมูลหลาย ๆ ค่ามาไว้ในตัวแปรเดียว  \n",
        "* ประกาศตัวแปรประเภท list ได้โดยการใช้ฟังก์ชัน list( ) หรือ [ ]\n",
        "\n"
      ],
      "metadata": {
        "id": "Cw9ELLUHQEhy"
      }
    },
    {
      "cell_type": "code",
      "source": [
        "mylist = [\"a\",\"b\",\"c\"]\n",
        "#or\n",
        "mylist = list((\"a\",\"b\",\"c\"))"
      ],
      "metadata": {
        "id": "Zf0eBTFnu-pF"
      },
      "execution_count": null,
      "outputs": []
    },
    {
      "cell_type": "markdown",
      "source": [
        "* list สามารถเก็บข้อมูลได้หลายประเภท และยังสามารถเก็บ list ข้างใน list ได้อีกด้วย"
      ],
      "metadata": {
        "id": "fHTQ7TjMwR3G"
      }
    },
    {
      "cell_type": "code",
      "source": [
        "mylist = [11, \"IT\", 14.07, [True, \"KMITL\"], 3]"
      ],
      "metadata": {
        "id": "twDociDiwNQU"
      },
      "execution_count": null,
      "outputs": []
    },
    {
      "cell_type": "markdown",
      "source": [
        "* เราเข้าถึงตำแหน่งใน list ได้โดยการระบุตำแหน่ง (index)"
      ],
      "metadata": {
        "id": "_nzkcNO9xZtg"
      }
    },
    {
      "cell_type": "code",
      "source": [
        "#print(mylist[0]) \n",
        "#print(mylist[:2])\n",
        "#print(mylist[-1])\n",
        "#print(mylist[0::2])"
      ],
      "metadata": {
        "colab": {
          "base_uri": "https://localhost:8080/"
        },
        "id": "VU2cnkPl2B2_",
        "outputId": "c048e9b5-19f6-4b1f-b348-845b09e16228"
      },
      "execution_count": null,
      "outputs": [
        {
          "output_type": "stream",
          "name": "stdout",
          "text": [
            "[11, 'IT']\n"
          ]
        }
      ]
    },
    {
      "cell_type": "markdown",
      "source": [
        "* เราสามารถแก้ไขข้อมูลใน list ได้\n"
      ],
      "metadata": {
        "id": "T4idSV4H38Vg"
      }
    },
    {
      "cell_type": "code",
      "source": [
        "colors = [\"red\",\"green\",\"blue\",\"yellow\",\"orange\",\"black\",\"white\",\"pink\"]\n",
        "\n",
        "print(colors)"
      ],
      "metadata": {
        "id": "FMZmrEKZ376l",
        "colab": {
          "base_uri": "https://localhost:8080/"
        },
        "outputId": "000a4e00-45a9-4f2b-ab29-c39605449d3a"
      },
      "execution_count": null,
      "outputs": [
        {
          "output_type": "stream",
          "name": "stdout",
          "text": [
            "['red', 'green', 'blue', 'yellow', 'orange', 'black', 'white', 'pink']\n"
          ]
        }
      ]
    },
    {
      "cell_type": "code",
      "source": [
        "colors[2] = \"pink\" #แก้ไขข้อมูล index ที่ 2 จาก blue เป็น pink\n",
        "\n",
        "print(colors)"
      ],
      "metadata": {
        "colab": {
          "base_uri": "https://localhost:8080/"
        },
        "id": "sDkWfAusBe8I",
        "outputId": "3a018781-83f1-49e8-ab88-42adf099ae86"
      },
      "execution_count": null,
      "outputs": [
        {
          "output_type": "stream",
          "name": "stdout",
          "text": [
            "['red', 'green', 'pink', 'yellow', 'orange', 'black', 'white', 'pink']\n"
          ]
        }
      ]
    },
    {
      "cell_type": "markdown",
      "source": [
        "**List Method**\n",
        "* **append** คือ การเพิ่มข้อมูลเข้ามาต่อที่ตำแหน่งสุดท้ายของ list"
      ],
      "metadata": {
        "id": "DSZqvHqC5n3y"
      }
    },
    {
      "cell_type": "code",
      "source": [
        "print(colors)"
      ],
      "metadata": {
        "colab": {
          "base_uri": "https://localhost:8080/"
        },
        "id": "ony3DFURf9rx",
        "outputId": "d9cdf190-687f-4d62-9e1e-540832fb1010"
      },
      "execution_count": null,
      "outputs": [
        {
          "output_type": "stream",
          "name": "stdout",
          "text": [
            "['red', 'green', 'pink', 'yellow', 'orange', 'black', 'white', 'pink']\n"
          ]
        }
      ]
    },
    {
      "cell_type": "code",
      "source": [
        "colors.append(\"purple\")\n",
        "\n",
        "print(colors)"
      ],
      "metadata": {
        "id": "5ib9ZdfJ6lUD",
        "colab": {
          "base_uri": "https://localhost:8080/"
        },
        "outputId": "836cad82-4e9d-4636-b6ff-1d5fadc44613"
      },
      "execution_count": null,
      "outputs": [
        {
          "output_type": "stream",
          "name": "stdout",
          "text": [
            "['red', 'green', 'pink', 'yellow', 'orange', 'black', 'white', 'pink', 'purple']\n"
          ]
        }
      ]
    },
    {
      "cell_type": "markdown",
      "source": [
        "* **insert** คือ การแทรกค่าเข้าสู่ list ในตำแหน่งที่ระบุไว้   "
      ],
      "metadata": {
        "id": "IhnyJKLH7AG3"
      }
    },
    {
      "cell_type": "code",
      "source": [
        "lst.insert(index, value)\n",
        "#index คือ ตำแหน่งที่จะทำการแทรก\n",
        "#value คือ ค่าที่ต้องการจะแทรก"
      ],
      "metadata": {
        "id": "TMF6qIn19IOO"
      },
      "execution_count": null,
      "outputs": []
    },
    {
      "cell_type": "code",
      "source": [
        "print(colors)"
      ],
      "metadata": {
        "colab": {
          "base_uri": "https://localhost:8080/"
        },
        "id": "Z9R2Wib8gMBP",
        "outputId": "dbc4f5ec-edf5-4189-c5aa-09451840e93a"
      },
      "execution_count": null,
      "outputs": [
        {
          "output_type": "stream",
          "name": "stdout",
          "text": [
            "['red', 'green', 'pink', 'yellow', 'orange', 'black', 'white', 'pink', 'purple']\n"
          ]
        }
      ]
    },
    {
      "cell_type": "code",
      "source": [
        "colors.insert(1, \"brown\")\n",
        "\n",
        "print(colors)"
      ],
      "metadata": {
        "id": "G1i1vlGB-Gqz",
        "colab": {
          "base_uri": "https://localhost:8080/"
        },
        "outputId": "9b07fda0-9f51-4eb3-a0f0-583ba13199ab"
      },
      "execution_count": null,
      "outputs": [
        {
          "output_type": "stream",
          "name": "stdout",
          "text": [
            "['red', 'brown', 'green', 'pink', 'yellow', 'orange', 'black', 'white', 'pink', 'purple']\n"
          ]
        }
      ]
    },
    {
      "cell_type": "markdown",
      "source": [
        "*  **remove** คือ การลบค่าที่กำหนดออกจาก list"
      ],
      "metadata": {
        "id": "5FJaCx0R-3W3"
      }
    },
    {
      "cell_type": "code",
      "source": [
        "lst.remove(value)\n",
        "#value คือ ค่าที่เราต้องการจะลบ"
      ],
      "metadata": {
        "id": "8ZfWoLab_Du8"
      },
      "execution_count": null,
      "outputs": []
    },
    {
      "cell_type": "code",
      "source": [
        "print(colors)"
      ],
      "metadata": {
        "colab": {
          "base_uri": "https://localhost:8080/"
        },
        "id": "-ZFTNgybga6e",
        "outputId": "32a2b636-0780-4033-87f8-ff5ff765a5ac"
      },
      "execution_count": null,
      "outputs": [
        {
          "output_type": "stream",
          "name": "stdout",
          "text": [
            "['red', 'brown', 'green', 'pink', 'yellow', 'orange', 'black', 'white', 'pink', 'purple']\n"
          ]
        }
      ]
    },
    {
      "cell_type": "code",
      "source": [
        "colors.remove(\"brown\")\n",
        "\n",
        "print(colors)"
      ],
      "metadata": {
        "id": "XuqfC5um_tLc",
        "colab": {
          "base_uri": "https://localhost:8080/"
        },
        "outputId": "cb8378db-25c9-4d3d-bdd4-dce8a8913752"
      },
      "execution_count": null,
      "outputs": [
        {
          "output_type": "stream",
          "name": "stdout",
          "text": [
            "['red', 'green', 'pink', 'yellow', 'orange', 'black', 'white', 'pink', 'purple']\n"
          ]
        }
      ]
    },
    {
      "cell_type": "markdown",
      "source": [
        "*  ถ้ามีค่าที่จะลบออกหลายค่า จะลบออกแค่ตัวเดียวจากตำแหน่งแรกที่พบนับจากซ้ายมือ"
      ],
      "metadata": {
        "id": "XAwLhzSBBBs1"
      }
    },
    {
      "cell_type": "code",
      "source": [
        "print(colors)"
      ],
      "metadata": {
        "colab": {
          "base_uri": "https://localhost:8080/"
        },
        "id": "h3YJrTE-gwqw",
        "outputId": "a8e66989-7f71-4556-ddf3-7002001d1f14"
      },
      "execution_count": null,
      "outputs": [
        {
          "output_type": "stream",
          "name": "stdout",
          "text": [
            "['red', 'green', 'pink', 'yellow', 'orange', 'black', 'white', 'pink', 'purple']\n"
          ]
        }
      ]
    },
    {
      "cell_type": "code",
      "source": [
        "colors.remove(\"pink\")\n",
        "\n",
        "print(colors)"
      ],
      "metadata": {
        "id": "TTdtDtxTB7Do",
        "colab": {
          "base_uri": "https://localhost:8080/"
        },
        "outputId": "d431d862-f74c-4bf8-f352-ae4a16848114"
      },
      "execution_count": null,
      "outputs": [
        {
          "output_type": "stream",
          "name": "stdout",
          "text": [
            "['red', 'green', 'yellow', 'orange', 'black', 'white', 'pink', 'purple']\n"
          ]
        }
      ]
    },
    {
      "cell_type": "markdown",
      "source": [
        "*  **pop** คือ การลบค่าที่กำหนดออกจาก list แต่จะมีการ return ค่าที่ลบออกมาด้วย"
      ],
      "metadata": {
        "id": "RjiS3pkBCruD"
      }
    },
    {
      "cell_type": "code",
      "source": [
        "lst.pop(index)\n",
        "#index คือ ตำแหน่งที่ต้องการจะลบ"
      ],
      "metadata": {
        "id": "yq9gVcKFGQW7"
      },
      "execution_count": null,
      "outputs": []
    },
    {
      "cell_type": "code",
      "source": [
        "num = [1,2,3,4,5]\n",
        "\n",
        "num.pop(3)\n",
        "\n",
        "print(num)"
      ],
      "metadata": {
        "id": "_r_kriyEGYXt",
        "colab": {
          "base_uri": "https://localhost:8080/"
        },
        "outputId": "ca9f263a-bc02-4c9a-b6bf-a3cf643d90d1"
      },
      "execution_count": null,
      "outputs": [
        {
          "output_type": "stream",
          "name": "stdout",
          "text": [
            "[1, 2, 3, 5]\n"
          ]
        }
      ]
    },
    {
      "cell_type": "code",
      "source": [
        "num.pop() #ถ้าไม่ระบุ index มันจะ pop ตัวสุดท้ายออก\n",
        "\n",
        "print(num)"
      ],
      "metadata": {
        "colab": {
          "base_uri": "https://localhost:8080/"
        },
        "id": "_gbWZCf3DQqn",
        "outputId": "4f6e90b1-f0c6-4647-9e55-4e553c9cedec"
      },
      "execution_count": null,
      "outputs": [
        {
          "output_type": "stream",
          "name": "stdout",
          "text": [
            "[1, 2, 3]\n"
          ]
        }
      ]
    },
    {
      "cell_type": "markdown",
      "source": [
        "เราสามารถ pop ข้อมูลมาเก็บไว้ในตัวแปรได้"
      ],
      "metadata": {
        "id": "-ED5IsnkG2E0"
      }
    },
    {
      "cell_type": "code",
      "source": [
        "num = [123,456,789]\n",
        "\n",
        "numnum = num.pop(1) #pop ค่าในตัวแปร num มาเก็บไว้ในตัวแปร numnum\n",
        "\n",
        "print(\"num :\",num) \n",
        "\n",
        "print(\"numnum :\",numnum)"
      ],
      "metadata": {
        "id": "LNKdV4b8EIai",
        "colab": {
          "base_uri": "https://localhost:8080/"
        },
        "outputId": "9255e9fc-fda0-4069-955f-8601c4e43d89"
      },
      "execution_count": null,
      "outputs": [
        {
          "output_type": "stream",
          "name": "stdout",
          "text": [
            "num : [123, 789]\n",
            "numnum : 456\n"
          ]
        }
      ]
    },
    {
      "cell_type": "code",
      "source": [
        "print(colors)"
      ],
      "metadata": {
        "colab": {
          "base_uri": "https://localhost:8080/"
        },
        "id": "T0toXPgsHzwd",
        "outputId": "2b14ada9-d788-437a-fb01-676b1cf93912"
      },
      "execution_count": null,
      "outputs": [
        {
          "output_type": "stream",
          "name": "stdout",
          "text": [
            "['red', 'green', 'yellow', 'orange', 'black', 'white', 'pink', 'purple']\n"
          ]
        }
      ]
    },
    {
      "cell_type": "markdown",
      "source": [
        "# Dictionary (Dict)\n",
        "ชนิดของข้อมูลที่ใช้เก็บข้อมูลในรูปแบบของ Key และ Value  \n",
        "โดยที่\n",
        "* Key ใช้สำหรับเป็น Index ในการเข้าถึงข้อมูล  \n",
        "* Value เป็นค่าใน key ซึ่งเป็นข้อมูลอะไรก็ได้ ไม่ว่าจะ str, int, float หรือ list"
      ],
      "metadata": {
        "id": "7VJMR-sWAfhS"
      }
    },
    {
      "cell_type": "code",
      "source": [
        "mydict = {\"Noon\": 1234,\n",
        "          \"Bank\": 5678,\n",
        "          \"Win\": 9876,\n",
        "          \"Sui\" : 5432\n",
        "          }"
      ],
      "metadata": {
        "id": "JsXB-xBjCJBl"
      },
      "execution_count": null,
      "outputs": []
    },
    {
      "cell_type": "code",
      "source": [
        "print(mydict[\"Bank\"])"
      ],
      "metadata": {
        "colab": {
          "base_uri": "https://localhost:8080/"
        },
        "id": "xk0ZA6WOrbzH",
        "outputId": "cb98a817-8d3a-47a3-a288-484fb13de9cd"
      },
      "execution_count": null,
      "outputs": [
        {
          "output_type": "stream",
          "name": "stdout",
          "text": [
            "5678\n"
          ]
        }
      ]
    },
    {
      "cell_type": "code",
      "source": [
        "mydict[\"Noon\"] = \"ปวดหลัง\" #เปลี่ยน value ใน key\n",
        "\n",
        "print(mydict)"
      ],
      "metadata": {
        "colab": {
          "base_uri": "https://localhost:8080/"
        },
        "id": "ZMgSt01a1bD3",
        "outputId": "6f23ee47-f194-46d7-dc37-6148bd228b66"
      },
      "execution_count": null,
      "outputs": [
        {
          "output_type": "stream",
          "name": "stdout",
          "text": [
            "{'Noon': 'ปวดหลัง', 'Bank': 5678, 'Win': 9876, 'Sui': 5432}\n"
          ]
        }
      ]
    },
    {
      "cell_type": "markdown",
      "source": [
        "**Dict Method**\n",
        "* **keys** ใช้ดึง key ทั้งหมดใน Dictionary ออกมา\n",
        "\n"
      ],
      "metadata": {
        "id": "8WiF5cSRkyg1"
      }
    },
    {
      "cell_type": "code",
      "source": [
        "print(mydict.keys())"
      ],
      "metadata": {
        "colab": {
          "base_uri": "https://localhost:8080/"
        },
        "id": "O-UEyYWDkyGX",
        "outputId": "6319e8e3-d5e2-49e3-bf35-a8228a372b57"
      },
      "execution_count": null,
      "outputs": [
        {
          "output_type": "stream",
          "name": "stdout",
          "text": [
            "dict_keys(['Noon', 'Bank', 'Win', 'Sui'])\n"
          ]
        }
      ]
    },
    {
      "cell_type": "markdown",
      "source": [
        "* **values** ใช้ดึง value ทั้งหมดใน Dictionary ออกมา"
      ],
      "metadata": {
        "id": "dfeeFrx4k_ir"
      }
    },
    {
      "cell_type": "code",
      "source": [
        "print(mydict.values())"
      ],
      "metadata": {
        "colab": {
          "base_uri": "https://localhost:8080/"
        },
        "id": "Cn1xBiLYlNRB",
        "outputId": "5330d821-3fe8-4f20-9a4c-ed45a68323c0"
      },
      "execution_count": null,
      "outputs": [
        {
          "output_type": "stream",
          "name": "stdout",
          "text": [
            "dict_values(['ปวดหลัง', 5678, 9876, 5432])\n"
          ]
        }
      ]
    },
    {
      "cell_type": "markdown",
      "source": [
        "* **items** ใช้ดึงทั้ง key และ value ทั้งหมดใน Dictionary ออกมา"
      ],
      "metadata": {
        "id": "5YSvIYkblTIz"
      }
    },
    {
      "cell_type": "code",
      "source": [
        "print(mydict.items())"
      ],
      "metadata": {
        "colab": {
          "base_uri": "https://localhost:8080/"
        },
        "id": "s5dhTP6hlans",
        "outputId": "452365f3-ad4c-4236-a650-f18fafe869f1"
      },
      "execution_count": null,
      "outputs": [
        {
          "output_type": "stream",
          "name": "stdout",
          "text": [
            "dict_items([('Noon', 'ปวดหลัง'), ('Bank', 5678), ('Win', 9876), ('Sui', 5432)])\n"
          ]
        }
      ]
    },
    {
      "cell_type": "markdown",
      "source": [
        "* **get** จะ return ค่าในคีย์ของ Dictionary ที่ต้องการ"
      ],
      "metadata": {
        "id": "y7C89e2JljAh"
      }
    },
    {
      "cell_type": "code",
      "source": [
        "print(mydict.get(\"Win\"))"
      ],
      "metadata": {
        "colab": {
          "base_uri": "https://localhost:8080/"
        },
        "id": "2Rm4fFGT1GA_",
        "outputId": "6ab14ed4-8a5e-45b1-f64b-9b6cfa5ba4d1"
      },
      "execution_count": null,
      "outputs": [
        {
          "output_type": "stream",
          "name": "stdout",
          "text": [
            "9876\n"
          ]
        }
      ]
    },
    {
      "cell_type": "markdown",
      "source": [
        "* **update** ใช้เปลี่ยนแปลง value ใน key หรือ เพิ่ม key และ value ของ Dictionary ที่ต้องการ "
      ],
      "metadata": {
        "id": "uRIFREO7l9TU"
      }
    },
    {
      "cell_type": "code",
      "source": [
        "mydict.update({\"Bank\":\"ปวดหัว\"}) #เปลี่ยน value ใน key Bank\n",
        "\n",
        "mydict.update({\"Aun\": \"ปวดคอ\"}) #เพิ่ม key และ value ใหม่เข้าไปใน dict\n",
        "\n",
        "print(mydict)"
      ],
      "metadata": {
        "colab": {
          "base_uri": "https://localhost:8080/"
        },
        "id": "zcQVme4n1hgl",
        "outputId": "265ac7b3-f514-4db3-99f1-893cc2980363"
      },
      "execution_count": null,
      "outputs": [
        {
          "output_type": "stream",
          "name": "stdout",
          "text": [
            "{'Noon': 'ปวดหลัง', 'Bank': 'ปวดหัว', 'Win': 9876, 'Sui': 5432, 'Aun': 'ปวดคอ'}\n"
          ]
        }
      ]
    },
    {
      "cell_type": "markdown",
      "source": [
        "* **pop** ใช้ดึงค่าข้อมูลใน key ที่ต้องการเอาออก"
      ],
      "metadata": {
        "id": "bFpsTyAdoiZg"
      }
    },
    {
      "cell_type": "code",
      "source": [
        "mydict.pop(\"Aun\")\n",
        "\n",
        "print(mydict)"
      ],
      "metadata": {
        "colab": {
          "base_uri": "https://localhost:8080/"
        },
        "id": "L38_UXp-17J5",
        "outputId": "644035ae-c7fc-4ad4-8f37-21ae04359760"
      },
      "execution_count": null,
      "outputs": [
        {
          "output_type": "stream",
          "name": "stdout",
          "text": [
            "{'Noon': 'ปวดหลัง', 'Bank': 'ปวดหัว', 'Win': 9876, 'Sui': 5432}\n"
          ]
        }
      ]
    },
    {
      "cell_type": "markdown",
      "source": [
        "# Arithmetic Operators\n",
        "ตัวดำเนินการทางคณิตศาสตร์ ได้แก่\n",
        "*   ( ) วงเล็บ\n",
        "*   ** ยกกำลัง\n",
        "*   \\* คูณ\n",
        "*   / หาร\n",
        "*   // หารไม่เอาเศษ (Floor Division)\n",
        "*   % หารเอาแต่เศษ (Modulus)\n",
        "*   \\+ บวก\n",
        "*   \\- ลบ  \n",
        "\n"
      ],
      "metadata": {
        "id": "EIAhB5iQBxOn"
      }
    },
    {
      "cell_type": "code",
      "source": [
        "26 + 4\n",
        "\n",
        "#operand (ตัวที่ถูกกระทำ) คือ 26 และ 4\n",
        "#operator (ตัวกระทำ) คือ +"
      ],
      "metadata": {
        "id": "60zvcvQAFMD9"
      },
      "execution_count": null,
      "outputs": []
    },
    {
      "cell_type": "markdown",
      "source": [
        "เราสามารถใช้เครื่องหมาย + ในการรวม string เข้าด้วยกันได้"
      ],
      "metadata": {
        "id": "KVQhbcO1FLPI"
      }
    },
    {
      "cell_type": "code",
      "source": [
        "print(\"IT\"+\"CAMP\")"
      ],
      "metadata": {
        "id": "tQ4Rq7QfEmyA",
        "colab": {
          "base_uri": "https://localhost:8080/"
        },
        "outputId": "dbb8805c-64b3-454b-96e1-fea2e0106b0d"
      },
      "execution_count": null,
      "outputs": [
        {
          "output_type": "stream",
          "name": "stdout",
          "text": [
            "ITCAMP\n"
          ]
        }
      ]
    },
    {
      "cell_type": "markdown",
      "source": [
        "และยังสามารถใช้เครื่องหมาย * ระหว่าง string และ int ได้"
      ],
      "metadata": {
        "id": "yPj84oFAGAFb"
      }
    },
    {
      "cell_type": "code",
      "source": [
        "print(\"จงทำดี\"*3)"
      ],
      "metadata": {
        "id": "OAPLpr5PF_wF",
        "colab": {
          "base_uri": "https://localhost:8080/"
        },
        "outputId": "9d3419dd-4138-45be-dcf3-7d543f4e173d"
      },
      "execution_count": null,
      "outputs": [
        {
          "output_type": "stream",
          "name": "stdout",
          "text": [
            "จงทำดีจงทำดีจงทำดี\n"
          ]
        }
      ]
    },
    {
      "cell_type": "markdown",
      "source": [
        "# PEMDAS\n",
        "ลำดับขั้นการดำเนินการทางคณิตศาสตร์\n",
        "โดยจะเรียงลำดับความสำคัญดังนี้\n",
        "1.   วงเล็บ ( )\n",
        "2.   ยกกำลัง **\n",
        "3.   คูณ ( * ) หาร ( / ) หารไม่เอาเศษ ( // ) หารเอาแต่เศษ ( % )\n",
        "4.   บวก ( + ) ลบ ( - )\n",
        "\n",
        "**\\* จะทำจากซ้ายไปขวาเสมอ \\***\n",
        "\n"
      ],
      "metadata": {
        "id": "7MNltBApUTAf"
      }
    },
    {
      "cell_type": "code",
      "source": [
        "#ตัวอย่าง\n",
        "(2 ** 2 * 2 + (5 - 3) ** 4 // 6 % 3 + (3 ** 2 + 1) % (4 - 1)) * (2 ** 0)\n",
        "\n",
        "= (2 ** 2 * 2 + 2 ** 4 // 6 % 3 + (9 + 1) % 3) * 1\n",
        "\n",
        "= (2 ** 2 * 2 + 2 ** 4 // 6 % 3 + 10 % 3) * 1\n",
        "\n",
        "= (4 * 2 + 16 // 6 % 3 + 10 % 3) * 1\n",
        "\n",
        "= (8 + 2 % 3 + 1) * 1\n",
        "\n",
        "= (8 + 2 + 1) * 1\n",
        "\n",
        "= 11 * 1\n",
        "\n",
        "= 11"
      ],
      "metadata": {
        "id": "TqVKIxp31s8g"
      },
      "execution_count": null,
      "outputs": []
    },
    {
      "cell_type": "code",
      "source": [
        "print((2 ** 2 * 2 + (5 - 3) ** 4 // 6 % 3 + (3 ** 2 + 1) % (4 - 1)) * (2 ** 0))"
      ],
      "metadata": {
        "id": "lvTugogm3wnS"
      },
      "execution_count": null,
      "outputs": []
    }
  ]
}